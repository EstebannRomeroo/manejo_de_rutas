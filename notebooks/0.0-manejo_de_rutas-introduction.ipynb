{
 "cells": [
  {
   "cell_type": "code",
   "execution_count": 3,
   "id": "7dabae64",
   "metadata": {},
   "outputs": [],
   "source": [
    "import os"
   ]
  },
  {
   "cell_type": "code",
   "execution_count": 9,
   "id": "14a123e7",
   "metadata": {},
   "outputs": [],
   "source": [
    "current_dir = os.getcwd()\n",
    "data_dir = os.path.join(current_dir, os.pardir, \"data\", \"raw\")"
   ]
  },
  {
   "cell_type": "code",
   "execution_count": 11,
   "id": "22abb1ea",
   "metadata": {},
   "outputs": [
    {
     "data": {
      "text/plain": [
       "True"
      ]
     },
     "execution_count": 11,
     "metadata": {},
     "output_type": "execute_result"
    }
   ],
   "source": [
    "os.path.exists(data_dir)\n",
    "os.path.isdir(data_dir)"
   ]
  },
  {
   "cell_type": "code",
   "execution_count": 12,
   "id": "e20e1c0d",
   "metadata": {},
   "outputs": [
    {
     "data": {
      "text/plain": [
       "['/home/esteban/Documents/Workspace/projects/manejo_de_rutas/notebooks/../data/raw/.gitkeep']"
      ]
     },
     "execution_count": 12,
     "metadata": {},
     "output_type": "execute_result"
    }
   ],
   "source": [
    "[os.path.join(data_dir, item) for item in os.listdir(data_dir)]"
   ]
  },
  {
   "cell_type": "code",
   "execution_count": 13,
   "id": "6d5aacd1",
   "metadata": {},
   "outputs": [],
   "source": [
    "os.mkdir(os.path.join(data_dir, \"os\"))"
   ]
  },
  {
   "cell_type": "code",
   "execution_count": 14,
   "id": "56b7fdd1",
   "metadata": {},
   "outputs": [],
   "source": [
    "import pathlib"
   ]
  },
  {
   "cell_type": "code",
   "execution_count": 19,
   "id": "eebc7b96",
   "metadata": {},
   "outputs": [],
   "source": [
    "current_dir = pathlib.Path().resolve()\n",
    "data_dir = current_dir.parent.joinpath(\"data\",'raw')"
   ]
  },
  {
   "cell_type": "code",
   "execution_count": null,
   "id": "09f73fa3",
   "metadata": {},
   "outputs": [
    {
     "data": {
      "text/plain": [
       "True"
      ]
     },
     "execution_count": 20,
     "metadata": {},
     "output_type": "execute_result"
    }
   ],
   "source": [
    "data_dir.exists()"
   ]
  },
  {
   "cell_type": "code",
   "execution_count": 24,
   "id": "710d9fc8",
   "metadata": {},
   "outputs": [],
   "source": [
    "data_dir.joinpath(\"pathlib\").mkdir()"
   ]
  },
  {
   "cell_type": "code",
   "execution_count": 27,
   "id": "dab09afc",
   "metadata": {},
   "outputs": [
    {
     "data": {
      "text/plain": [
       "[PosixPath('/home/esteban/Documents/Workspace/projects/manejo_de_rutas/data/raw/.gitkeep')]"
      ]
     },
     "execution_count": 27,
     "metadata": {},
     "output_type": "execute_result"
    }
   ],
   "source": [
    "list(data_dir.glob(\".git*\"))"
   ]
  },
  {
   "cell_type": "code",
   "execution_count": 28,
   "id": "d4eaf541",
   "metadata": {},
   "outputs": [],
   "source": [
    "import fs"
   ]
  },
  {
   "cell_type": "code",
   "execution_count": 33,
   "id": "02c9b4d3",
   "metadata": {},
   "outputs": [],
   "source": [
    "data_dir = fs.open_fs(\"../data/raw/\")"
   ]
  },
  {
   "cell_type": "code",
   "execution_count": 35,
   "id": "d2bc12ed",
   "metadata": {},
   "outputs": [
    {
     "data": {
      "text/plain": [
       "['.gitkeep', 'pathlib']"
      ]
     },
     "execution_count": 35,
     "metadata": {},
     "output_type": "execute_result"
    }
   ],
   "source": [
    "data_dir.listdir(\".\")"
   ]
  },
  {
   "cell_type": "code",
   "execution_count": 38,
   "id": "a729c46c",
   "metadata": {},
   "outputs": [
    {
     "name": "stdout",
     "output_type": "stream",
     "text": [
      "/.gitkeep\n",
      "[]\n"
     ]
    }
   ],
   "source": [
    "for path in data_dir.walk.files():\n",
    "    print(path)\n",
    "\n",
    "    with data_dir.open(path) as data_files:\n",
    "        print(data_files.readlines())"
   ]
  },
  {
   "cell_type": "code",
   "execution_count": 39,
   "id": "f4479a1c",
   "metadata": {},
   "outputs": [
    {
     "data": {
      "text/plain": [
       "SubFS(OSFS('/home/esteban/Documents/Workspace/projects/manejo_de_rutas/data/raw'), '/external_fs')"
      ]
     },
     "execution_count": 39,
     "metadata": {},
     "output_type": "execute_result"
    }
   ],
   "source": [
    "data_dir.makedir(\"external_fs\", recreate=True)"
   ]
  }
 ],
 "metadata": {
  "kernelspec": {
   "display_name": "manejo_de_rutas",
   "language": "python",
   "name": "python3"
  },
  "language_info": {
   "codemirror_mode": {
    "name": "ipython",
    "version": 3
   },
   "file_extension": ".py",
   "mimetype": "text/x-python",
   "name": "python",
   "nbconvert_exporter": "python",
   "pygments_lexer": "ipython3",
   "version": "3.9.21"
  }
 },
 "nbformat": 4,
 "nbformat_minor": 5
}
